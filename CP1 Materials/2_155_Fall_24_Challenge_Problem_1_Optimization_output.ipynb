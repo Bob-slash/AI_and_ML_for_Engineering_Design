Target_CURVE: 0
Node Amount:6
WARNING: Mating could not produce the required number of (unique) offsprings!
WARNING: Mating could not produce the required number of (unique) offsprings!
Hyper Volume ~ 0.292183
Node Amount:7
WARNING: Mating could not produce the required number of (unique) offsprings!
WARNING: Mating could not produce the required number of (unique) offsprings!
Hyper Volume ~ 0.401581
Node Amount:8
WARNING: Mating could not produce the required number of (unique) offsprings!
WARNING: Mating could not produce the required number of (unique) offsprings!
Hyper Volume ~ 0.449824
Node Amount:9
WARNING: Mating could not produce the required number of (unique) offsprings!
WARNING: Mating could not produce the required number of (unique) offsprings!
Hyper Volume ~ 0.273072
Node Amount:10
Did Not Find Solutions for any Seed!!
Node Amount:11
WARNING: Mating could not produce the required number of (unique) offsprings!
WARNING: Mating could not produce the required number of (unique) offsprings!
Hyper Volume ~ 0.057660
Node Amount:12
WARNING: Mating could not produce the required number of (unique) offsprings!
WARNING: Mating could not produce the required number of (unique) offsprings!
WARNING: Mating could not produce the required number of (unique) offsprings!
WARNING: Mating could not produce the required number of (unique) offsprings!
WARNING: Mating could not produce the required number of (unique) offsprings!
Did Not Find Solutions for any Seed!!
Node Amount:13
WARNING: Mating could not produce the required number of (unique) offsprings!
WARNING: Mating could not produce the required number of (unique) offsprings!
Hyper Volume ~ 0.160668
Node Amount:14
WARNING: Mating could not produce the required number of (unique) offsprings!
WARNING: Mating could not produce the required number of (unique) offsprings!
WARNING: Mating could not produce the required number of (unique) offsprings!
WARNING: Mating could not produce the required number of (unique) offsprings!
WARNING: Mating could not produce the required number of (unique) offsprings!
Did Not Find Solutions for any Seed!!
Node Amount:15
WARNING: Mating could not produce the required number of (unique) offsprings!
WARNING: Mating could not produce the required number of (unique) offsprings!
Hyper Volume ~ 0.010449
Node Amount:16
WARNING: Mating could not produce the required number of (unique) offsprings!
WARNING: Mating could not produce the required number of (unique) offsprings!
WARNING: Mating could not produce the required number of (unique) offsprings!
WARNING: Mating could not produce the required number of (unique) offsprings!
WARNING: Mating could not produce the required number of (unique) offsprings!
Did Not Find Solutions for any Seed!!
Node Amount:17
WARNING: Mating could not produce the required number of (unique) offsprings!
WARNING: Mating could not produce the required number of (unique) offsprings!
WARNING: Mating could not produce the required number of (unique) offsprings!
WARNING: Mating could not produce the required number of (unique) offsprings!
WARNING: Mating could not produce the required number of (unique) offsprings!
Did Not Find Solutions for any Seed!!
Node Amount:18
WARNING: Mating could not produce the required number of (unique) offsprings!
WARNING: Mating could not produce the required number of (unique) offsprings!
WARNING: Mating could not produce the required number of (unique) offsprings!
WARNING: Mating could not produce the required number of (unique) offsprings!
WARNING: Mating could not produce the required number of (unique) offsprings!
Did Not Find Solutions for any Seed!!
Node Amount:19
WARNING: Mating could not produce the required number of (unique) offsprings!
WARNING: Mating could not produce the required number of (unique) offsprings!
WARNING: Mating could not produce the required number of (unique) offsprings!
WARNING: Mating could not produce the required number of (unique) offsprings!
WARNING: Mating could not produce the required number of (unique) offsprings!
Did Not Find Solutions for any Seed!!
Node Amount:20
WARNING: Mating could not produce the required number of (unique) offsprings!
WARNING: Mating could not produce the required number of (unique) offsprings!
WARNING: Mating could not produce the required number of (unique) offsprings!
WARNING: Mating could not produce the required number of (unique) offsprings!
WARNING: Mating could not produce the required number of (unique) offsprings!
Did Not Find Solutions for any Seed!!
Target_CURVE: 1
Node Amount:6
WARNING: Mating could not produce the required number of (unique) offsprings!
WARNING: Mating could not produce the required number of (unique) offsprings!
Hyper Volume ~ 0.504407
Node Amount:7
WARNING: Mating could not produce the required number of (unique) offsprings!
WARNING: Mating could not produce the required number of (unique) offsprings!
Hyper Volume ~ 0.418870
Node Amount:8
WARNING: Mating could not produce the required number of (unique) offsprings!
WARNING: Mating could not produce the required number of (unique) offsprings!
Hyper Volume ~ 0.404463
Node Amount:9
WARNING: Mating could not produce the required number of (unique) offsprings!
WARNING: Mating could not produce the required number of (unique) offsprings!
Hyper Volume ~ 0.425740
Node Amount:10
Hyper Volume ~ 0.067988
Node Amount:11
WARNING: Mating could not produce the required number of (unique) offsprings!
WARNING: Mating could not produce the required number of (unique) offsprings!
Hyper Volume ~ 0.126304
Node Amount:12
WARNING: Mating could not produce the required number of (unique) offsprings!
WARNING: Mating could not produce the required number of (unique) offsprings!
WARNING: Mating could not produce the required number of (unique) offsprings!
WARNING: Mating could not produce the required number of (unique) offsprings!
WARNING: Mating could not produce the required number of (unique) offsprings!
Did Not Find Solutions for any Seed!!
Node Amount:13
WARNING: Mating could not produce the required number of (unique) offsprings!
WARNING: Mating could not produce the required number of (unique) offsprings!
Hyper Volume ~ 0.152808
Node Amount:14
WARNING: Mating could not produce the required number of (unique) offsprings!
WARNING: Mating could not produce the required number of (unique) offsprings!
WARNING: Mating could not produce the required number of (unique) offsprings!
WARNING: Mating could not produce the required number of (unique) offsprings!
WARNING: Mating could not produce the required number of (unique) offsprings!
Did Not Find Solutions for any Seed!!
Node Amount:15
WARNING: Mating could not produce the required number of (unique) offsprings!
WARNING: Mating could not produce the required number of (unique) offsprings!
WARNING: Mating could not produce the required number of (unique) offsprings!
WARNING: Mating could not produce the required number of (unique) offsprings!
WARNING: Mating could not produce the required number of (unique) offsprings!
Did Not Find Solutions for any Seed!!
Node Amount:16
WARNING: Mating could not produce the required number of (unique) offsprings!
WARNING: Mating could not produce the required number of (unique) offsprings!
Hyper Volume ~ 0.066893
Node Amount:17
WARNING: Mating could not produce the required number of (unique) offsprings!
WARNING: Mating could not produce the required number of (unique) offsprings!
WARNING: Mating could not produce the required number of (unique) offsprings!
WARNING: Mating could not produce the required number of (unique) offsprings!
WARNING: Mating could not produce the required number of (unique) offsprings!
Did Not Find Solutions for any Seed!!
Node Amount:18
WARNING: Mating could not produce the required number of (unique) offsprings!
WARNING: Mating could not produce the required number of (unique) offsprings!
WARNING: Mating could not produce the required number of (unique) offsprings!
WARNING: Mating could not produce the required number of (unique) offsprings!
WARNING: Mating could not produce the required number of (unique) offsprings!
Did Not Find Solutions for any Seed!!
Node Amount:19
WARNING: Mating could not produce the required number of (unique) offsprings!
WARNING: Mating could not produce the required number of (unique) offsprings!
WARNING: Mating could not produce the required number of (unique) offsprings!
WARNING: Mating could not produce the required number of (unique) offsprings!
WARNING: Mating could not produce the required number of (unique) offsprings!
Did Not Find Solutions for any Seed!!
Node Amount:20
WARNING: Mating could not produce the required number of (unique) offsprings!
WARNING: Mating could not produce the required number of (unique) offsprings!
WARNING: Mating could not produce the required number of (unique) offsprings!
WARNING: Mating could not produce the required number of (unique) offsprings!
WARNING: Mating could not produce the required number of (unique) offsprings!
Did Not Find Solutions for any Seed!!
Target_CURVE: 2
Node Amount:6
WARNING: Mating could not produce the required number of (unique) offsprings!
WARNING: Mating could not produce the required number of (unique) offsprings!
WARNING: Mating could not produce the required number of (unique) offsprings!
WARNING: Mating could not produce the required number of (unique) offsprings!
WARNING: Mating could not produce the required number of (unique) offsprings!
Did Not Find Solutions for any Seed!!
Node Amount:7
WARNING: Mating could not produce the required number of (unique) offsprings!
WARNING: Mating could not produce the required number of (unique) offsprings!
Hyper Volume ~ 0.513153
Node Amount:8
WARNING: Mating could not produce the required number of (unique) offsprings!
WARNING: Mating could not produce the required number of (unique) offsprings!
